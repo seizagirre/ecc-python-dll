{
 "cells": [
  {
   "cell_type": "markdown",
   "metadata": {},
   "source": [
    "## ECC100 motion controller python interface\n",
    "\n",
    "Uses the **ECC100Control** class contained in the **ECC100Control_lib.py** file to communicate with an ECC100 motion controller via the dynamical link library (dll) provided by Attocube in the software files. Please refer to the class documentation provided in the file to see a list of defined functions.\n",
    "\n",
    "Author: Simone Eizagirre <se410@cam.ac.uk>"
   ]
  },
  {
   "cell_type": "markdown",
   "metadata": {},
   "source": [
    "**Import the class and initialise it**"
   ]
  },
  {
   "cell_type": "code",
   "execution_count": 1,
   "metadata": {},
   "outputs": [],
   "source": [
    "from ECC100Control_lib import ECC100Control\n",
    "ecc=ECC100Control()"
   ]
  },
  {
   "cell_type": "markdown",
   "metadata": {},
   "source": [
    "**Check for devices connected to your PC**\n",
    "\n",
    "Running this function outputs a device ID if a device is connected. If the device is locked (in use by another program), it will let you know. If this is the case close other relevant programs (ie ECC Daisy GUI) or restart the kernel to terminate any open connections."
   ]
  },
  {
   "cell_type": "code",
   "execution_count": 2,
   "metadata": {},
   "outputs": [
    {
     "name": "stdout",
     "output_type": "stream",
     "text": [
      "Device 0: Id=13635717\n"
     ]
    }
   ],
   "source": [
    "dev_no = ecc.select_device()"
   ]
  },
  {
   "cell_type": "markdown",
   "metadata": {},
   "source": [
    "**Establish connection to the device**\n",
    "\n",
    "Will only work if the device ID is given (device is unlocked)"
   ]
  },
  {
   "cell_type": "code",
   "execution_count": 3,
   "metadata": {},
   "outputs": [],
   "source": [
    "handle=ecc.connect(dev_no)"
   ]
  },
  {
   "cell_type": "markdown",
   "metadata": {},
   "source": [
    "**Send commands to the ECC100**"
   ]
  },
  {
   "cell_type": "code",
   "execution_count": 4,
   "metadata": {},
   "outputs": [],
   "source": [
    "#Move one step forward on axis 0\n",
    "ecc.step_forward(handle,0)\n",
    "#add all your commands here"
   ]
  },
  {
   "cell_type": "markdown",
   "metadata": {},
   "source": [
    "**Disconnect from the device**\n",
    "\n",
    "Once you run all your protocols, you can disconnect from the device so that it is available to other programs."
   ]
  },
  {
   "cell_type": "code",
   "execution_count": 5,
   "metadata": {},
   "outputs": [
    {
     "name": "stdout",
     "output_type": "stream",
     "text": [
      "Device disconnected\n"
     ]
    }
   ],
   "source": [
    "ecc.close_device(handle)"
   ]
  },
  {
   "cell_type": "code",
   "execution_count": null,
   "metadata": {},
   "outputs": [],
   "source": []
  }
 ],
 "metadata": {
  "kernelspec": {
   "display_name": "Python 3",
   "language": "python",
   "name": "python3"
  },
  "language_info": {
   "codemirror_mode": {
    "name": "ipython",
    "version": 3
   },
   "file_extension": ".py",
   "mimetype": "text/x-python",
   "name": "python",
   "nbconvert_exporter": "python",
   "pygments_lexer": "ipython3",
   "version": "3.6.5"
  }
 },
 "nbformat": 4,
 "nbformat_minor": 2
}
